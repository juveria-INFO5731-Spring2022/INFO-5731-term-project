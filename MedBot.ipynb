{
 "cells": [
  {
   "cell_type": "code",
   "execution_count": 2,
   "metadata": {},
   "outputs": [],
   "source": [
    "# import machine learning libraries\n",
    "import numpy as np\n",
    "import pandas as pd\n",
    "import matplotlib.pyplot as plt\n",
    "import seaborn as sns\n",
    "from sklearn.model_selection import train_test_split\n",
    "from sklearn.preprocessing import StandardScaler\n",
    "from sklearn.metrics import confusion_matrix\n",
    "from sklearn.metrics import classification_report\n",
    "from sklearn.metrics import accuracy_score\n",
    "from sklearn.metrics import roc_auc_score\n",
    "from sklearn.metrics import roc_curve\n",
    "from sklearn.metrics import auc\n",
    "from sklearn.metrics import precision_recall_curve\n",
    "from sklearn.metrics import average_precision_score\n",
    "from sklearn.metrics import precision_recall_fscore_support\n",
    "from sklearn.metrics import f1_score"
   ]
  },
  {
   "cell_type": "code",
   "execution_count": 10,
   "metadata": {},
   "outputs": [
    {
     "data": {
      "text/html": [
       "<div>\n",
       "<style scoped>\n",
       "    .dataframe tbody tr th:only-of-type {\n",
       "        vertical-align: middle;\n",
       "    }\n",
       "\n",
       "    .dataframe tbody tr th {\n",
       "        vertical-align: top;\n",
       "    }\n",
       "\n",
       "    .dataframe thead th {\n",
       "        text-align: right;\n",
       "    }\n",
       "</style>\n",
       "<table border=\"1\" class=\"dataframe\">\n",
       "  <thead>\n",
       "    <tr style=\"text-align: right;\">\n",
       "      <th></th>\n",
       "      <th>age</th>\n",
       "      <th>gender</th>\n",
       "      <th>symptoms</th>\n",
       "      <th>pred_diseases</th>\n",
       "      <th>analgesics</th>\n",
       "      <th>treatments_scans</th>\n",
       "      <th>diet</th>\n",
       "    </tr>\n",
       "  </thead>\n",
       "  <tbody>\n",
       "    <tr>\n",
       "      <th>0</th>\n",
       "      <td>0</td>\n",
       "      <td>M/F</td>\n",
       "      <td>Stopped Growth</td>\n",
       "      <td>Growth Disorder, Turner Syndrome</td>\n",
       "      <td>Thyroid hormone pills, growth hormone injections</td>\n",
       "      <td>Bone Age Xray, MRI scan</td>\n",
       "      <td>Meat, Seafood,Leafygreens,Diary,Spinach, Beef</td>\n",
       "    </tr>\n",
       "    <tr>\n",
       "      <th>1</th>\n",
       "      <td>0</td>\n",
       "      <td>M/F</td>\n",
       "      <td>Wheezing, Coughing and troubled breathing</td>\n",
       "      <td>Asthma</td>\n",
       "      <td>Metered dose inhalers, nebulizers</td>\n",
       "      <td>Asthma therapy</td>\n",
       "      <td>Fruits and vegetables</td>\n",
       "    </tr>\n",
       "    <tr>\n",
       "      <th>2</th>\n",
       "      <td>0</td>\n",
       "      <td>M/F</td>\n",
       "      <td>baby too small, weight&lt;5.5 pounds</td>\n",
       "      <td>Learning disabilities</td>\n",
       "      <td>iron supplements</td>\n",
       "      <td>Temperature Control Incubator</td>\n",
       "      <td>iron supplements</td>\n",
       "    </tr>\n",
       "    <tr>\n",
       "      <th>3</th>\n",
       "      <td>0</td>\n",
       "      <td>M/F</td>\n",
       "      <td>Repetetive behaviour,prefers to be alone</td>\n",
       "      <td>Autism\\r\\n</td>\n",
       "      <td>Ketamine, Midazolem</td>\n",
       "      <td>Teach social skills and cognitive behaviour</td>\n",
       "      <td>Only yelow or white foods such as rice, potato...</td>\n",
       "    </tr>\n",
       "    <tr>\n",
       "      <th>4</th>\n",
       "      <td>0</td>\n",
       "      <td>M/F</td>\n",
       "      <td>Self-destructiveness,sadness and being upset</td>\n",
       "      <td>Depression</td>\n",
       "      <td>Prozac, Zoloft or Celexa</td>\n",
       "      <td>Constantly praise him, teach skills, and give ...</td>\n",
       "      <td>Fish and whole grains</td>\n",
       "    </tr>\n",
       "  </tbody>\n",
       "</table>\n",
       "</div>"
      ],
      "text/plain": [
       "   age gender                                      symptoms  \\\n",
       "0    0    M/F                                Stopped Growth   \n",
       "1    0    M/F     Wheezing, Coughing and troubled breathing   \n",
       "2    0    M/F             baby too small, weight<5.5 pounds   \n",
       "3    0    M/F      Repetetive behaviour,prefers to be alone   \n",
       "4    0    M/F  Self-destructiveness,sadness and being upset   \n",
       "\n",
       "                      pred_diseases  \\\n",
       "0  Growth Disorder, Turner Syndrome   \n",
       "1                            Asthma   \n",
       "2             Learning disabilities   \n",
       "3                        Autism\\r\\n   \n",
       "4                        Depression   \n",
       "\n",
       "                                         analgesics  \\\n",
       "0  Thyroid hormone pills, growth hormone injections   \n",
       "1                 Metered dose inhalers, nebulizers   \n",
       "2                                  iron supplements   \n",
       "3                               Ketamine, Midazolem   \n",
       "4                          Prozac, Zoloft or Celexa   \n",
       "\n",
       "                                    treatments_scans  \\\n",
       "0                            Bone Age Xray, MRI scan   \n",
       "1                                     Asthma therapy   \n",
       "2                      Temperature Control Incubator   \n",
       "3        Teach social skills and cognitive behaviour   \n",
       "4  Constantly praise him, teach skills, and give ...   \n",
       "\n",
       "                                                diet  \n",
       "0      Meat, Seafood,Leafygreens,Diary,Spinach, Beef  \n",
       "1                              Fruits and vegetables  \n",
       "2                                   iron supplements  \n",
       "3  Only yelow or white foods such as rice, potato...  \n",
       "4                              Fish and whole grains  "
      ]
     },
     "execution_count": 10,
     "metadata": {},
     "output_type": "execute_result"
    }
   ],
   "source": [
    "#load health data\n",
    "df = pd.read_csv('health.csv')\n",
    "df.head()"
   ]
  },
  {
   "cell_type": "code",
   "execution_count": 11,
   "metadata": {},
   "outputs": [
    {
     "name": "stdout",
     "output_type": "stream",
     "text": [
      "<class 'pandas.core.frame.DataFrame'>\n",
      "RangeIndex: 29 entries, 0 to 28\n",
      "Data columns (total 7 columns):\n",
      " #   Column            Non-Null Count  Dtype \n",
      "---  ------            --------------  ----- \n",
      " 0   age               29 non-null     int64 \n",
      " 1   gender            29 non-null     object\n",
      " 2   symptoms          29 non-null     object\n",
      " 3   pred_diseases     29 non-null     object\n",
      " 4   analgesics        29 non-null     object\n",
      " 5   treatments_scans  29 non-null     object\n",
      " 6   diet              29 non-null     object\n",
      "dtypes: int64(1), object(6)\n",
      "memory usage: 1.7+ KB\n"
     ]
    }
   ],
   "source": [
    "df.info()"
   ]
  },
  {
   "cell_type": "code",
   "execution_count": null,
   "metadata": {},
   "outputs": [],
   "source": []
  },
  {
   "cell_type": "code",
   "execution_count": 12,
   "metadata": {},
   "outputs": [
    {
     "data": {
      "image/png": "[encoded data removed]",
      "text/plain": [
       "<Figure size 180x180 with 2 Axes>"
      ]
     },
     "metadata": {
      "needs_background": "light"
     },
     "output_type": "display_data"
    }
   ],
   "source": [
    "# plot the data of age agains gender\n",
    "sns.pairplot(df)\n",
    "plt.show()\n",
    "\n",
    "#sa\n"
   ]
  },
  {
   "cell_type": "code",
   "execution_count": 13,
   "metadata": {},
   "outputs": [],
   "source": [
    "#Train the dataset\n",
    "X = df.drop('age', axis=1)\n",
    "y = df['age']\n",
    "\n",
    "X_train , X_test , y_train , y_test = train_test_split(X,y,test_size=0.2,random_state=0)"
   ]
  },
  {
   "cell_type": "code",
   "execution_count": 22,
   "metadata": {},
   "outputs": [
    {
     "data": {
      "text/html": [
       "<div>\n",
       "<style scoped>\n",
       "    .dataframe tbody tr th:only-of-type {\n",
       "        vertical-align: middle;\n",
       "    }\n",
       "\n",
       "    .dataframe tbody tr th {\n",
       "        vertical-align: top;\n",
       "    }\n",
       "\n",
       "    .dataframe thead th {\n",
       "        text-align: right;\n",
       "    }\n",
       "</style>\n",
       "<table border=\"1\" class=\"dataframe\">\n",
       "  <thead>\n",
       "    <tr style=\"text-align: right;\">\n",
       "      <th></th>\n",
       "      <th>age</th>\n",
       "      <th>gender</th>\n",
       "      <th>symptoms</th>\n",
       "      <th>pred_diseases</th>\n",
       "      <th>analgesics</th>\n",
       "      <th>treatments_scans</th>\n",
       "      <th>diet</th>\n",
       "    </tr>\n",
       "  </thead>\n",
       "  <tbody>\n",
       "    <tr>\n",
       "      <th>24</th>\n",
       "      <td>2</td>\n",
       "      <td>F</td>\n",
       "      <td>Trouble sleeping, mood swings, vaginal dryness</td>\n",
       "      <td>Menopause</td>\n",
       "      <td>Isoflav capsules</td>\n",
       "      <td>Estrogen levels test</td>\n",
       "      <td>Fish, Fruits, Vegetables and Diary</td>\n",
       "    </tr>\n",
       "    <tr>\n",
       "      <th>25</th>\n",
       "      <td>2</td>\n",
       "      <td>M/F</td>\n",
       "      <td>Cold, Allergies, Nasal problems</td>\n",
       "      <td>Sinusitis</td>\n",
       "      <td>Acetaminophen or Nasal spray</td>\n",
       "      <td>Antibiotics like Aspirin and Nasal sprays</td>\n",
       "      <td>Salmon, Avocados, Cherries and Beans</td>\n",
       "    </tr>\n",
       "    <tr>\n",
       "      <th>26</th>\n",
       "      <td>2</td>\n",
       "      <td>M</td>\n",
       "      <td>Pain while urine and ejaculation</td>\n",
       "      <td>Prostate Cancer</td>\n",
       "      <td>Bicalutamide or Casodex</td>\n",
       "      <td>Radiation therapy or prostatectomy</td>\n",
       "      <td>Veggies and fruits and low in meat</td>\n",
       "    </tr>\n",
       "    <tr>\n",
       "      <th>27</th>\n",
       "      <td>2</td>\n",
       "      <td>M/F</td>\n",
       "      <td>Trembling body parts and loss of balance</td>\n",
       "      <td>Parkinson's disease</td>\n",
       "      <td>Vesoret capsules</td>\n",
       "      <td>Cardibopa-levodopa</td>\n",
       "      <td>Fruits and vegetables</td>\n",
       "    </tr>\n",
       "    <tr>\n",
       "      <th>28</th>\n",
       "      <td>2</td>\n",
       "      <td>M/F</td>\n",
       "      <td>Buildup of fluids in legs, ankles and legs, ti...</td>\n",
       "      <td>Heart failure</td>\n",
       "      <td>Carvedilol or Metoprolol</td>\n",
       "      <td>ACE inhibitors</td>\n",
       "      <td>Plain rice, fish, egg, milk and yoghurt</td>\n",
       "    </tr>\n",
       "  </tbody>\n",
       "</table>\n",
       "</div>"
      ],
      "text/plain": [
       "    age gender                                           symptoms  \\\n",
       "24    2      F     Trouble sleeping, mood swings, vaginal dryness   \n",
       "25    2    M/F                    Cold, Allergies, Nasal problems   \n",
       "26    2      M                   Pain while urine and ejaculation   \n",
       "27    2    M/F           Trembling body parts and loss of balance   \n",
       "28    2    M/F  Buildup of fluids in legs, ankles and legs, ti...   \n",
       "\n",
       "          pred_diseases                    analgesics  \\\n",
       "24            Menopause              Isoflav capsules   \n",
       "25            Sinusitis  Acetaminophen or Nasal spray   \n",
       "26      Prostate Cancer       Bicalutamide or Casodex   \n",
       "27  Parkinson's disease              Vesoret capsules   \n",
       "28        Heart failure      Carvedilol or Metoprolol   \n",
       "\n",
       "                             treatments_scans  \\\n",
       "24                       Estrogen levels test   \n",
       "25  Antibiotics like Aspirin and Nasal sprays   \n",
       "26         Radiation therapy or prostatectomy   \n",
       "27                         Cardibopa-levodopa   \n",
       "28                             ACE inhibitors   \n",
       "\n",
       "                                       diet  \n",
       "24       Fish, Fruits, Vegetables and Diary  \n",
       "25     Salmon, Avocados, Cherries and Beans  \n",
       "26       Veggies and fruits and low in meat  \n",
       "27                    Fruits and vegetables  \n",
       "28  Plain rice, fish, egg, milk and yoghurt  "
      ]
     },
     "execution_count": 22,
     "metadata": {},
     "output_type": "execute_result"
    }
   ],
   "source": [
    "\n",
    "df.tail()"
   ]
  },
  {
   "cell_type": "code",
   "execution_count": 1,
   "metadata": {},
   "outputs": [
    {
     "name": "stdout",
     "output_type": "stream",
     "text": [
      "Collecting SpeechRecognition\n",
      "  Downloading SpeechRecognition-3.8.1-py2.py3-none-any.whl (32.8 MB)\n",
      "Installing collected packages: SpeechRecognition\n",
      "Successfully installed SpeechRecognition-3.8.1\n",
      "Requirement already satisfied: pywin32 in c:\\users\\anves\\anaconda3\\lib\\site-packages (228)\n"
     ]
    }
   ],
   "source": [
    "!pip install SpeechRecognition\n",
    "!pip install pywin32"
   ]
  },
  {
   "cell_type": "code",
   "execution_count": 14,
   "metadata": {},
   "outputs": [
    {
     "name": "stdout",
     "output_type": "stream",
     "text": [
      "Collecting pipwin\n",
      "  Downloading pipwin-0.5.2.tar.gz (7.9 kB)\n",
      "Collecting docopt\n",
      "  Downloading docopt-0.6.2.tar.gz (25 kB)\n",
      "Requirement already satisfied: requests in c:\\users\\anves\\anaconda3\\lib\\site-packages (from pipwin) (2.26.0)\n",
      "Collecting pyprind\n",
      "  Downloading PyPrind-2.11.3-py2.py3-none-any.whl (8.4 kB)\n",
      "Requirement already satisfied: six in c:\\users\\anves\\anaconda3\\lib\\site-packages (from pipwin) (1.16.0)\n",
      "Requirement already satisfied: beautifulsoup4>=4.9.0 in c:\\users\\anves\\anaconda3\\lib\\site-packages (from pipwin) (4.10.0)\n",
      "Collecting js2py\n",
      "  Downloading Js2Py-0.71-py3-none-any.whl (1.0 MB)\n",
      "Requirement already satisfied: packaging in c:\\users\\anves\\anaconda3\\lib\\site-packages (from pipwin) (21.0)\n",
      "Collecting pySmartDL>=1.3.1\n",
      "  Downloading pySmartDL-1.3.4-py3-none-any.whl (20 kB)\n",
      "Requirement already satisfied: soupsieve>1.2 in c:\\users\\anves\\anaconda3\\lib\\site-packages (from beautifulsoup4>=4.9.0->pipwin) (2.2.1)\n",
      "Collecting tzlocal>=1.2\n",
      "  Downloading tzlocal-4.2-py3-none-any.whl (19 kB)\n",
      "Collecting pyjsparser>=2.5.1\n",
      "  Downloading pyjsparser-2.7.1.tar.gz (24 kB)\n",
      "Collecting tzdata\n",
      "  Downloading tzdata-2022.1-py2.py3-none-any.whl (339 kB)\n",
      "Collecting pytz-deprecation-shim\n",
      "  Downloading pytz_deprecation_shim-0.1.0.post0-py2.py3-none-any.whl (15 kB)\n",
      "Requirement already satisfied: pyparsing>=2.0.2 in c:\\users\\anves\\anaconda3\\lib\\site-packages (from packaging->pipwin) (3.0.4)\n",
      "Requirement already satisfied: charset-normalizer~=2.0.0 in c:\\users\\anves\\anaconda3\\lib\\site-packages (from requests->pipwin) (2.0.4)\n",
      "Requirement already satisfied: urllib3<1.27,>=1.21.1 in c:\\users\\anves\\anaconda3\\lib\\site-packages (from requests->pipwin) (1.26.7)\n",
      "Requirement already satisfied: certifi>=2017.4.17 in c:\\users\\anves\\anaconda3\\lib\\site-packages (from requests->pipwin) (2021.10.8)\n",
      "Requirement already satisfied: idna<4,>=2.5 in c:\\users\\anves\\anaconda3\\lib\\site-packages (from requests->pipwin) (3.2)\n",
      "Building wheels for collected packages: pipwin, docopt, pyjsparser\n",
      "  Building wheel for pipwin (setup.py): started\n",
      "  Building wheel for pipwin (setup.py): finished with status 'done'\n",
      "  Created wheel for pipwin: filename=pipwin-0.5.2-py2.py3-none-any.whl size=8790 sha256=b9664a2c16917e350601856821f08ea400994ecc5ce7fbde2519566cbddf1004\n",
      "  Stored in directory: c:\\users\\anves\\appdata\\local\\pip\\cache\\wheels\\bc\\86\\30\\f70db104d3f51560d9a177d6ced4f7e09f3e474d6985c101ae\n",
      "  Building wheel for docopt (setup.py): started\n",
      "  Building wheel for docopt (setup.py): finished with status 'done'\n",
      "  Created wheel for docopt: filename=docopt-0.6.2-py2.py3-none-any.whl size=13724 sha256=dd396a4ed3bc67b188f4bfe2fe205b6dc88d6c446a970331f722ffcb9148d5b6\n",
      "  Stored in directory: c:\\users\\anves\\appdata\\local\\pip\\cache\\wheels\\70\\4a\\46\\1309fc853b8d395e60bafaf1b6df7845bdd82c95fd59dd8d2b\n",
      "  Building wheel for pyjsparser (setup.py): started\n",
      "  Building wheel for pyjsparser (setup.py): finished with status 'done'\n",
      "  Created wheel for pyjsparser: filename=pyjsparser-2.7.1-py3-none-any.whl size=26001 sha256=dc4bec1749b06c0c368cf925c5cf0d820a44f1ae6ea26e6cb98b4e4cc81151bc\n",
      "  Stored in directory: c:\\users\\anves\\appdata\\local\\pip\\cache\\wheels\\f0\\70\\61\\f42dc45dcf0fbe8c495ce579b04730787081499bfb5b8bc60e\n",
      "Successfully built pipwin docopt pyjsparser\n",
      "Installing collected packages: tzdata, pytz-deprecation-shim, tzlocal, pyjsparser, pySmartDL, pyprind, js2py, docopt, pipwin\n",
      "Successfully installed docopt-0.6.2 js2py-0.71 pipwin-0.5.2 pySmartDL-1.3.4 pyjsparser-2.7.1 pyprind-2.11.3 pytz-deprecation-shim-0.1.0.post0 tzdata-2022.1 tzlocal-4.2\n",
      "Building cache. Hang on . . .\n",
      "Done\n",
      "Package `pyaudio` found in cache\n",
      "Downloading package . . .\n",
      "https://download.lfd.uci.edu/pythonlibs/x6hvwk7i/PyAudio-0.2.11-cp39-cp39-win_amd64.whl\n",
      "PyAudio-0.2.11-cp39-cp39-win_amd64.whl\n",
      "[*] 0 bytes / 111 kB @ 0 bytes/s [------------------] [0.0%, 0s left]   [*] 0 bytes / 111 kB @ 0 bytes/s [------------------] [0.0%, 0s left]   [*] 0 bytes / 111 kB @ 0 bytes/s [------------------] [0.0%, 0s left]   [*] 24 kB / 111 kB @ 60 kB/s [###---------------] [21.6%, 0s left]  [*] 88 kB / 111 kB @ 176 kB/s [##############----] [79.3%, 0s left]   Processing c:\\users\\anves\\pipwin\\pyaudio-0.2.11-cp39-cp39-win_amd64.whl\n",
      "Installing collected packages: PyAudio\n",
      "Successfully installed PyAudio-0.2.11\n",
      "[*] 111 kB / 111 kB @ 176 kB/s [##################] [100%, 0s left]    \n"
     ]
    }
   ],
   "source": [
    "!pip install pipwin\n",
    "!pipwin install pyaudio"
   ]
  },
  {
   "cell_type": "code",
   "execution_count": 15,
   "metadata": {},
   "outputs": [],
   "source": [
    "import speech_recognition as sr;\n",
    "import win32com.client "
   ]
  },
  {
   "cell_type": "code",
   "execution_count": 16,
   "metadata": {},
   "outputs": [
    {
     "name": "stdout",
     "output_type": "stream",
     "text": [
      "Requirement already satisfied: pyaudio in c:\\users\\anves\\anaconda3\\lib\\site-packages (0.2.11)\n"
     ]
    }
   ],
   "source": [
    "!pip install pyaudio"
   ]
  },
  {
   "cell_type": "code",
   "execution_count": 31,
   "metadata": {},
   "outputs": [],
   "source": [
    "r=sr.Recognizer()\n",
    "speaker = win32com.client.Dispatch(\"SAPI.SpVoice\")\n",
    "with sr.Microphone() as source:\n",
    "    speaker.Speak(\"Say something\")\n",
    "    audio=r.listen(source)\n",
    "    try:\n",
    "        text=r.recognize_google(audio)\n",
    "        speaker.Speak(\"You said \" + text)  \n",
    "       \n",
    "    except:\n",
    "        speaker.Speak(\"Sorry, couldn't catch that!\")"
   ]
  },
  {
   "cell_type": "code",
   "execution_count": 19,
   "metadata": {},
   "outputs": [
    {
     "data": {
      "text/plain": [
       "0"
      ]
     },
     "execution_count": 19,
     "metadata": {},
     "output_type": "execute_result"
    }
   ],
   "source": [
    "import os\n",
    "os.system(\"echo 'hey'\")"
   ]
  },
  {
   "cell_type": "code",
   "execution_count": 20,
   "metadata": {},
   "outputs": [
    {
     "data": {
      "text/plain": [
       "1"
      ]
     },
     "execution_count": 20,
     "metadata": {},
     "output_type": "execute_result"
    }
   ],
   "source": [
    "import win32com.client\n",
    "speaker = win32com.client.Dispatch(\"SAPI.SpVoice\")\n",
    "speaker.Speak(\"Hello, it works!\")"
   ]
  },
  {
   "cell_type": "code",
   "execution_count": 21,
   "metadata": {},
   "outputs": [],
   "source": [
    "import nltk\n",
    "#nltk.download()"
   ]
  },
  {
   "cell_type": "code",
   "execution_count": 22,
   "metadata": {},
   "outputs": [
    {
     "name": "stdout",
     "output_type": "stream",
     "text": [
      "Collecting word2number\n",
      "  Downloading word2number-1.1.zip (9.7 kB)\n",
      "Building wheels for collected packages: word2number\n",
      "  Building wheel for word2number (setup.py): started\n",
      "  Building wheel for word2number (setup.py): finished with status 'done'\n",
      "  Created wheel for word2number: filename=word2number-1.1-py3-none-any.whl size=5580 sha256=167dc71392962bfbb416f742bdddc0c7934ebc9026d736a05455c1e6702a49b3\n",
      "  Stored in directory: c:\\users\\anves\\appdata\\local\\pip\\cache\\wheels\\a0\\4a\\5b\\d2f2df5c344ddbecb8bea759872c207ea91d93f57fb54e816e\n",
      "Successfully built word2number\n",
      "Installing collected packages: word2number\n",
      "Successfully installed word2number-1.1\n"
     ]
    }
   ],
   "source": [
    "!pip install word2number"
   ]
  },
  {
   "cell_type": "code",
   "execution_count": 24,
   "metadata": {},
   "outputs": [
    {
     "ename": "ModuleNotFoundError",
     "evalue": "No module named 'mysql'",
     "output_type": "error",
     "traceback": [
      "\u001b[1;31m---------------------------------------------------------------------------\u001b[0m",
      "\u001b[1;31mModuleNotFoundError\u001b[0m                       Traceback (most recent call last)",
      "\u001b[1;32m~\\AppData\\Local\\Temp/ipykernel_20896/3839625447.py\u001b[0m in \u001b[0;36m<module>\u001b[1;34m\u001b[0m\n\u001b[0;32m      5\u001b[0m \u001b[1;32mfrom\u001b[0m \u001b[0mnltk\u001b[0m\u001b[1;33m.\u001b[0m\u001b[0mcorpus\u001b[0m \u001b[1;32mimport\u001b[0m \u001b[0mstopwords\u001b[0m\u001b[1;33m\u001b[0m\u001b[1;33m\u001b[0m\u001b[0m\n\u001b[0;32m      6\u001b[0m \u001b[1;32mfrom\u001b[0m \u001b[0mnltk\u001b[0m\u001b[1;33m.\u001b[0m\u001b[0mstem\u001b[0m \u001b[1;32mimport\u001b[0m \u001b[0mWordNetLemmatizer\u001b[0m\u001b[1;33m\u001b[0m\u001b[1;33m\u001b[0m\u001b[0m\n\u001b[1;32m----> 7\u001b[1;33m \u001b[1;32mimport\u001b[0m \u001b[0mmysql\u001b[0m\u001b[1;33m.\u001b[0m\u001b[0mconnector\u001b[0m\u001b[1;33m\u001b[0m\u001b[1;33m\u001b[0m\u001b[0m\n\u001b[0m\u001b[0;32m      8\u001b[0m \u001b[1;32mfrom\u001b[0m \u001b[0mmysql\u001b[0m\u001b[1;33m.\u001b[0m\u001b[0mconnector\u001b[0m \u001b[1;32mimport\u001b[0m \u001b[0mError\u001b[0m\u001b[1;33m\u001b[0m\u001b[1;33m\u001b[0m\u001b[0m\n\u001b[0;32m      9\u001b[0m \u001b[1;32mfrom\u001b[0m \u001b[0mword2number\u001b[0m \u001b[1;32mimport\u001b[0m \u001b[0mw2n\u001b[0m\u001b[1;33m\u001b[0m\u001b[1;33m\u001b[0m\u001b[0m\n",
      "\u001b[1;31mModuleNotFoundError\u001b[0m: No module named 'mysql'"
     ]
    }
   ],
   "source": [
    "import nltk\n",
    "from nltk.tokenize import sent_tokenize, word_tokenize, PunktSentenceTokenizer\n",
    "import speech_recognition as sr;\n",
    "import win32com.client \n",
    "from nltk.corpus import stopwords\n",
    "from nltk.stem import WordNetLemmatizer \n",
    "import mysql.connector\n",
    "from mysql.connector import Error\n",
    "from word2number import w2n"
   ]
  },
  {
   "cell_type": "code",
   "execution_count": 26,
   "metadata": {},
   "outputs": [
    {
     "name": "stderr",
     "output_type": "stream",
     "text": [
      "[nltk_data] Downloading package stopwords to\n",
      "[nltk_data]     C:\\Users\\anves\\AppData\\Roaming\\nltk_data...\n",
      "[nltk_data]   Unzipping corpora\\stopwords.zip.\n"
     ]
    },
    {
     "ename": "LookupError",
     "evalue": "\n**********************************************************************\n  Resource \u001b[93maveraged_perceptron_tagger\u001b[0m not found.\n  Please use the NLTK Downloader to obtain the resource:\n\n  \u001b[31m>>> import nltk\n  >>> nltk.download('averaged_perceptron_tagger')\n  \u001b[0m\n  For more information see: https://www.nltk.org/data.html\n\n  Attempted to load \u001b[93mtaggers/averaged_perceptron_tagger/averaged_perceptron_tagger.pickle\u001b[0m\n\n  Searched in:\n    - 'C:\\\\Users\\\\anves/nltk_data'\n    - 'C:\\\\Users\\\\anves\\\\anaconda3\\\\nltk_data'\n    - 'C:\\\\Users\\\\anves\\\\anaconda3\\\\share\\\\nltk_data'\n    - 'C:\\\\Users\\\\anves\\\\anaconda3\\\\lib\\\\nltk_data'\n    - 'C:\\\\Users\\\\anves\\\\AppData\\\\Roaming\\\\nltk_data'\n    - 'C:\\\\nltk_data'\n    - 'D:\\\\nltk_data'\n    - 'E:\\\\nltk_data'\n**********************************************************************\n",
     "output_type": "error",
     "traceback": [
      "\u001b[1;31m---------------------------------------------------------------------------\u001b[0m",
      "\u001b[1;31mLookupError\u001b[0m                               Traceback (most recent call last)",
      "\u001b[1;32m~\\AppData\\Local\\Temp/ipykernel_20896/1899765895.py\u001b[0m in \u001b[0;36m<module>\u001b[1;34m\u001b[0m\n\u001b[0;32m     83\u001b[0m \u001b[1;31m#print(filteredWords)\u001b[0m\u001b[1;33m\u001b[0m\u001b[1;33m\u001b[0m\u001b[0m\n\u001b[0;32m     84\u001b[0m \u001b[1;31m#print(lemWords)\u001b[0m\u001b[1;33m\u001b[0m\u001b[1;33m\u001b[0m\u001b[0m\n\u001b[1;32m---> 85\u001b[1;33m \u001b[0mtags\u001b[0m\u001b[1;33m=\u001b[0m\u001b[0mnltk\u001b[0m\u001b[1;33m.\u001b[0m\u001b[0mpos_tag\u001b[0m\u001b[1;33m(\u001b[0m\u001b[0mlemWords\u001b[0m\u001b[1;33m)\u001b[0m\u001b[1;33m\u001b[0m\u001b[1;33m\u001b[0m\u001b[0m\n\u001b[0m\u001b[0;32m     86\u001b[0m \u001b[1;31m#print(tags)\u001b[0m\u001b[1;33m\u001b[0m\u001b[1;33m\u001b[0m\u001b[0m\n",
      "\u001b[1;32m~\\anaconda3\\lib\\site-packages\\nltk\\tag\\__init__.py\u001b[0m in \u001b[0;36mpos_tag\u001b[1;34m(tokens, tagset, lang)\u001b[0m\n\u001b[0;32m    163\u001b[0m     \u001b[1;33m:\u001b[0m\u001b[0mrtype\u001b[0m\u001b[1;33m:\u001b[0m \u001b[0mlist\u001b[0m\u001b[1;33m(\u001b[0m\u001b[0mtuple\u001b[0m\u001b[1;33m(\u001b[0m\u001b[0mstr\u001b[0m\u001b[1;33m,\u001b[0m \u001b[0mstr\u001b[0m\u001b[1;33m)\u001b[0m\u001b[1;33m)\u001b[0m\u001b[1;33m\u001b[0m\u001b[1;33m\u001b[0m\u001b[0m\n\u001b[0;32m    164\u001b[0m     \"\"\"\n\u001b[1;32m--> 165\u001b[1;33m     \u001b[0mtagger\u001b[0m \u001b[1;33m=\u001b[0m \u001b[0m_get_tagger\u001b[0m\u001b[1;33m(\u001b[0m\u001b[0mlang\u001b[0m\u001b[1;33m)\u001b[0m\u001b[1;33m\u001b[0m\u001b[1;33m\u001b[0m\u001b[0m\n\u001b[0m\u001b[0;32m    166\u001b[0m     \u001b[1;32mreturn\u001b[0m \u001b[0m_pos_tag\u001b[0m\u001b[1;33m(\u001b[0m\u001b[0mtokens\u001b[0m\u001b[1;33m,\u001b[0m \u001b[0mtagset\u001b[0m\u001b[1;33m,\u001b[0m \u001b[0mtagger\u001b[0m\u001b[1;33m,\u001b[0m \u001b[0mlang\u001b[0m\u001b[1;33m)\u001b[0m\u001b[1;33m\u001b[0m\u001b[1;33m\u001b[0m\u001b[0m\n\u001b[0;32m    167\u001b[0m \u001b[1;33m\u001b[0m\u001b[0m\n",
      "\u001b[1;32m~\\anaconda3\\lib\\site-packages\\nltk\\tag\\__init__.py\u001b[0m in \u001b[0;36m_get_tagger\u001b[1;34m(lang)\u001b[0m\n\u001b[0;32m    105\u001b[0m         \u001b[0mtagger\u001b[0m\u001b[1;33m.\u001b[0m\u001b[0mload\u001b[0m\u001b[1;33m(\u001b[0m\u001b[0map_russian_model_loc\u001b[0m\u001b[1;33m)\u001b[0m\u001b[1;33m\u001b[0m\u001b[1;33m\u001b[0m\u001b[0m\n\u001b[0;32m    106\u001b[0m     \u001b[1;32melse\u001b[0m\u001b[1;33m:\u001b[0m\u001b[1;33m\u001b[0m\u001b[1;33m\u001b[0m\u001b[0m\n\u001b[1;32m--> 107\u001b[1;33m         \u001b[0mtagger\u001b[0m \u001b[1;33m=\u001b[0m \u001b[0mPerceptronTagger\u001b[0m\u001b[1;33m(\u001b[0m\u001b[1;33m)\u001b[0m\u001b[1;33m\u001b[0m\u001b[1;33m\u001b[0m\u001b[0m\n\u001b[0m\u001b[0;32m    108\u001b[0m     \u001b[1;32mreturn\u001b[0m \u001b[0mtagger\u001b[0m\u001b[1;33m\u001b[0m\u001b[1;33m\u001b[0m\u001b[0m\n\u001b[0;32m    109\u001b[0m \u001b[1;33m\u001b[0m\u001b[0m\n",
      "\u001b[1;32m~\\anaconda3\\lib\\site-packages\\nltk\\tag\\perceptron.py\u001b[0m in \u001b[0;36m__init__\u001b[1;34m(self, load)\u001b[0m\n\u001b[0;32m    165\u001b[0m         \u001b[1;32mif\u001b[0m \u001b[0mload\u001b[0m\u001b[1;33m:\u001b[0m\u001b[1;33m\u001b[0m\u001b[1;33m\u001b[0m\u001b[0m\n\u001b[0;32m    166\u001b[0m             AP_MODEL_LOC = \"file:\" + str(\n\u001b[1;32m--> 167\u001b[1;33m                 \u001b[0mfind\u001b[0m\u001b[1;33m(\u001b[0m\u001b[1;34m\"taggers/averaged_perceptron_tagger/\"\u001b[0m \u001b[1;33m+\u001b[0m \u001b[0mPICKLE\u001b[0m\u001b[1;33m)\u001b[0m\u001b[1;33m\u001b[0m\u001b[1;33m\u001b[0m\u001b[0m\n\u001b[0m\u001b[0;32m    168\u001b[0m             )\n\u001b[0;32m    169\u001b[0m             \u001b[0mself\u001b[0m\u001b[1;33m.\u001b[0m\u001b[0mload\u001b[0m\u001b[1;33m(\u001b[0m\u001b[0mAP_MODEL_LOC\u001b[0m\u001b[1;33m)\u001b[0m\u001b[1;33m\u001b[0m\u001b[1;33m\u001b[0m\u001b[0m\n",
      "\u001b[1;32m~\\anaconda3\\lib\\site-packages\\nltk\\data.py\u001b[0m in \u001b[0;36mfind\u001b[1;34m(resource_name, paths)\u001b[0m\n\u001b[0;32m    581\u001b[0m     \u001b[0msep\u001b[0m \u001b[1;33m=\u001b[0m \u001b[1;34m\"*\"\u001b[0m \u001b[1;33m*\u001b[0m \u001b[1;36m70\u001b[0m\u001b[1;33m\u001b[0m\u001b[1;33m\u001b[0m\u001b[0m\n\u001b[0;32m    582\u001b[0m     \u001b[0mresource_not_found\u001b[0m \u001b[1;33m=\u001b[0m \u001b[1;34mf\"\\n{sep}\\n{msg}\\n{sep}\\n\"\u001b[0m\u001b[1;33m\u001b[0m\u001b[1;33m\u001b[0m\u001b[0m\n\u001b[1;32m--> 583\u001b[1;33m     \u001b[1;32mraise\u001b[0m \u001b[0mLookupError\u001b[0m\u001b[1;33m(\u001b[0m\u001b[0mresource_not_found\u001b[0m\u001b[1;33m)\u001b[0m\u001b[1;33m\u001b[0m\u001b[1;33m\u001b[0m\u001b[0m\n\u001b[0m\u001b[0;32m    584\u001b[0m \u001b[1;33m\u001b[0m\u001b[0m\n\u001b[0;32m    585\u001b[0m \u001b[1;33m\u001b[0m\u001b[0m\n",
      "\u001b[1;31mLookupError\u001b[0m: \n**********************************************************************\n  Resource \u001b[93maveraged_perceptron_tagger\u001b[0m not found.\n  Please use the NLTK Downloader to obtain the resource:\n\n  \u001b[31m>>> import nltk\n  >>> nltk.download('averaged_perceptron_tagger')\n  \u001b[0m\n  For more information see: https://www.nltk.org/data.html\n\n  Attempted to load \u001b[93mtaggers/averaged_perceptron_tagger/averaged_perceptron_tagger.pickle\u001b[0m\n\n  Searched in:\n    - 'C:\\\\Users\\\\anves/nltk_data'\n    - 'C:\\\\Users\\\\anves\\\\anaconda3\\\\nltk_data'\n    - 'C:\\\\Users\\\\anves\\\\anaconda3\\\\share\\\\nltk_data'\n    - 'C:\\\\Users\\\\anves\\\\anaconda3\\\\lib\\\\nltk_data'\n    - 'C:\\\\Users\\\\anves\\\\AppData\\\\Roaming\\\\nltk_data'\n    - 'C:\\\\nltk_data'\n    - 'D:\\\\nltk_data'\n    - 'E:\\\\nltk_data'\n**********************************************************************\n"
     ]
    }
   ],
   "source": [
    "import nltk\n",
    "nltk.download('stopwords')\n",
    "r=sr.Recognizer()\n",
    "speaker = win32com.client.Dispatch(\"SAPI.SpVoice\")\n",
    "stopWords=set(stopwords.words('english'))\n",
    "filteredWords=[]\n",
    "tags=[]\n",
    "lemWords=[]\n",
    "y='yes'\n",
    "n='no'\n",
    "nope='nope'\n",
    "yeah='yeah'\n",
    "ps=WordNetLemmatizer()\n",
    "\n",
    "with sr.Microphone() as source:\n",
    "    speaker.Speak(\"Hello there! I'm Doctor Shawn and I'm your personal health assistant. I might need some of your personal details to serve you better. \")\n",
    "    speaker.Speak(\"What's your name?\")\n",
    "    audio=r.listen(source)\n",
    "    try:\n",
    "        sent1=r.recognize_google(audio)\n",
    "        words1=word_tokenize(sent1)\n",
    "        name=words1[len(words1)-1]\n",
    "        print(name)\n",
    "        speaker.Speak(\"Hey \"+name+\"Can you tell me your age?\")\n",
    "        audio=r.listen(source)\n",
    "        sent2=r.recognize_google(audio)\n",
    "        words2=word_tokenize(sent2)\n",
    "        age=words2[len(words2)-1]\n",
    "        print(age)\n",
    "        \n",
    "    #speaker.Speak(\"Thanks for telling me.Your age is\"+age)\n",
    "        speaker.Speak(\"Thanks for telling me your age, \"+name+\" Now do you mind telling me your gender?\")\n",
    "        audio=r.listen(source)\n",
    "        sent3=r.recognize_google(audio)\n",
    "        words3=word_tokenize(sent3)\n",
    "        gender=words3[len(words3)-1]\n",
    "        #print(gender)\n",
    "        \n",
    "        speaker.Speak(\"Name one of the primary problems you're facing\")\n",
    "        audio=r.listen(source)\n",
    "        sent4=r.recognize_google(audio)\n",
    "        words4=word_tokenize(sent4)\n",
    "        sym=words4[len(words4)-1]\n",
    "        print(sym)\n",
    "        conn = mysql.connector.connect(host='sql12.freemysqlhosting.net',\n",
    "                             database='sql12279572',\n",
    "                             user='sql12279572',\n",
    "                             password='PylfrUnIqm')\n",
    "        if conn.is_connected():\n",
    "            cursor = conn.cursor()\n",
    "            cursor.execute(\"select * from health where symptoms like '%\"+sym+\"%'\")\n",
    "            record = cursor.fetchone()\n",
    "            speaker.Speak(\"Are you also suffering from severe \"+record[2]+\"?\")\n",
    "            audio=r.listen(source)\n",
    "            sent5=r.recognize_google(audio)\n",
    "            words5=word_tokenize(sent5)\n",
    "            addedsymp=words5[0]\n",
    "            for w in words5:\n",
    "                if w not in stopWords:\n",
    "                    filteredWords.append(w)\n",
    "                    lemWords.append(ps.lemmatize(w))\n",
    "            print(addedsymp)\n",
    "            print(addedsymp==n or addedsymp==nope)\n",
    "            if(addedsymp==n):\n",
    "                speaker.Speak(\"Then you have nothing to worry about, \"+name+\" Have a nice day!\")\n",
    "            elif(addedsymp==y or addedsymp==yeah):\n",
    "                speaker.Speak(\"You may be suffering from \"+record[3]+\" , but dont worry I've got your back\")\n",
    "                speaker.Speak(\"You can take the analgesics, \"+record[4]+\"for immediate relief and you can also go for, \"+record[5])\n",
    "                speaker.Speak(\"Also, please don't forget to include good amounts of \"+record[6]+\" in your diet. \")\n",
    "                speaker.Speak(\"Hope that was helpful. It was nice serving you,\"+name)\n",
    "                print(\"You may be suffering from \"+record[3]+\".\")\n",
    "                print(\"You can take the analgesics \"+record[4]+\" for immediate relief and you can also go for \"+record[5])\n",
    "                print(\"Also, please don't forget to include good amounts of \"+record[6]+\" in your diet. \")\n",
    "                print(\"Hope that was helpful. It was nice serving you, \"+name)\n",
    "\n",
    "    except:\n",
    "        speaker.Speak(\"Sorry! Couldn't catch that\")\n",
    "                \n",
    "        #print(sent_tokenize(name))\n",
    "        #speaker.Speak(\"You said \" + text)    \n",
    "    #except:\n",
    "        #speaker.Speak(\"Sorry, couldn't catch that!\")\n",
    "#print(filteredWords)\n",
    "#print(lemWords)\n",
    "tags=nltk.pos_tag(lemWords)\n",
    "#print(tags)"
   ]
  },
  {
   "cell_type": "code",
   "execution_count": 16,
   "metadata": {},
   "outputs": [
    {
     "name": "stdout",
     "output_type": "stream",
     "text": [
      "<WordListCorpusReader in 'C:\\\\Users\\\\admin\\\\AppData\\\\Roaming\\\\nltk_data\\\\corpora\\\\stopwords'>\n"
     ]
    }
   ],
   "source": [
    "print(stopwords)"
   ]
  },
  {
   "cell_type": "code",
   "execution_count": null,
   "metadata": {},
   "outputs": [],
   "source": [
    "import mysql.connector\n",
    "from mysql.connector import Error\n",
    "#sym=\"wheezing\"\n",
    "l=(0,120)\n",
    "#placeholder= '?' # For SQLite. See DBAPI paramstyle.\n",
    "#placeholders= ', '.join(placeholder*len(l))\n",
    "#query= 'SELECT pred_diseases FROM health where age IN %s' % (l,)\n",
    "try:\n",
    "    conn = mysql.connector.connect(host='sql12.freemysqlhosting.net',\n",
    "                             database='sql12279572',\n",
    "                             user='sql12279572',\n",
    "                             password='PylfrUnIqm')\n",
    "    if conn.is_connected():\n",
    "       db_Info = conn.get_server_info()\n",
    "       print(\"Connected to MySQL database... MySQL Server version on \",db_Info)\n",
    "       cursor = conn.cursor()\n",
    "       #cursor.execute(query)\n",
    "       cursor.execute(\"select pred_diseases from health where symptoms like '%\"+sym+\"%'\")\n",
    "       record = cursor.fetchone()\n",
    "       speaker.Speak(\"You're suffering from\"+record[0]+\" , but dont worry I've got you\")\n",
    "except Error as e :\n",
    "    print (\"Error while connecting to MySQL\", e)\n",
    "finally:\n",
    "    #closing database connection.\n",
    "    if conn.is_connected():\n",
    "        cursor.close()\n",
    "        conn.close()\n",
    "        print(\"MySQL connection is closed\")"
   ]
  },
  {
   "cell_type": "code",
   "execution_count": 21,
   "metadata": {},
   "outputs": [
    {
     "name": "stdout",
     "output_type": "stream",
     "text": [
      "20\n"
     ]
    }
   ],
   "source": [
    "from word2number import w2n\n",
    "print(w2n.word_to_num('twenty'))"
   ]
  },
  {
   "cell_type": "code",
   "execution_count": 22,
   "metadata": {},
   "outputs": [],
   "source": [
    "a = 'twenty'\n"
   ]
  },
  {
   "cell_type": "code",
   "execution_count": 27,
   "metadata": {},
   "outputs": [],
   "source": [
    "age = 20"
   ]
  },
  {
   "cell_type": "code",
   "execution_count": null,
   "metadata": {},
   "outputs": [],
   "source": [
    "if(w2n.word_to_num(age)<=20):\n",
    "    a=(0,120)\n",
    "elif(w2n.word_to_num(age)>20 and w2n.word_to_num(age)<=50):\n",
    "    a=(1,120)\n",
    "elif(w2n.word_to_num(age)>50 and w2n.word_to_num(age)<120):\n",
    "    a=(2,120)"
   ]
  },
  {
   "cell_type": "code",
   "execution_count": null,
   "metadata": {},
   "outputs": [],
   "source": [
    "if(gender=='female'):\n",
    "            print(\"F\")\n",
    "            g=(\"F\",\"M/F\")\n",
    "elif(gender=='male'):\n",
    "            print(\"M\")\n",
    "            g=(\"M\",\"M/F\")"
   ]
  }
 ],
 "metadata": {
  "kernelspec": {
   "display_name": "Python 3 (ipykernel)",
   "language": "python",
   "name": "python3"
  },
  "language_info": {
   "codemirror_mode": {
    "name": "ipython",
    "version": 3
   },
   "file_extension": ".py",
   "mimetype": "text/x-python",
   "name": "python",
   "nbconvert_exporter": "python",
   "pygments_lexer": "ipython3",
   "version": "3.9.7"
  },
  "widgets": {
   "application/vnd.jupyter.widget-state+json": {
    "state": {},
    "version_major": 2,
    "version_minor": 0
   }
  }
 },
 "nbformat": 4,
 "nbformat_minor": 2
}
